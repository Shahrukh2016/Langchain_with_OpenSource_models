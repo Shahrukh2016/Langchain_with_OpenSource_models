{
 "cells": [
  {
   "cell_type": "code",
   "execution_count": 1,
   "id": "25fb0706",
   "metadata": {},
   "outputs": [
    {
     "name": "stderr",
     "output_type": "stream",
     "text": [
      "\n",
      "[notice] A new release of pip is available: 24.0 -> 25.2\n",
      "[notice] To update, run: python.exe -m pip install --upgrade pip\n"
     ]
    }
   ],
   "source": [
    "## Installing required libraries\n",
    "!pip install langchain langchain-core langchain-community pydantic duckduckgo-search -q"
   ]
  },
  {
   "cell_type": "code",
   "execution_count": 34,
   "id": "a5c5ce8b",
   "metadata": {},
   "outputs": [],
   "source": [
    "## Importing required libraries\n",
    "from langchain_community.tools import DuckDuckGoSearchRun\n",
    "from langchain_huggingface import HuggingFaceEndpoint, ChatHuggingFace\n",
    "from langchain_perplexity import ChatPerplexity\n",
    "from langchain.tools import tool\n",
    "import requests"
   ]
  },
  {
   "cell_type": "code",
   "execution_count": 35,
   "id": "c25a9651",
   "metadata": {},
   "outputs": [
    {
     "name": "stderr",
     "output_type": "stream",
     "text": [
      "c:\\Users\\DELL\\Desktop\\LangChain\\venv\\Lib\\site-packages\\langchain_community\\utilities\\duckduckgo_search.py:63: RuntimeWarning: This package (`duckduckgo_search`) has been renamed to `ddgs`! Use `pip install ddgs` instead.\n",
      "  with DDGS() as ddgs:\n"
     ]
    },
    {
     "name": "stdout",
     "output_type": "stream",
     "text": [
      "Mar 8, 2025 · Myntra is home to some of the most on-trend top styles of the season. You can browse, filter, and shop by your favourite global and domestic brands at the price you are … Tops - Shop Tops at India's Best Online Shopping Store. Check Price and Buy Online. Free Shipping Cash on Delivery Best Offers Top news stories from world, politics, business, sports, entertainment, lifestyle online. Find 1582 different ways to say TOP, along with antonyms, related words, and example sentences at Thesaurus.com. Top Charts ranks the top 100 songs of the week based on Apple Music, Youtube and Spotify streaming, iTunes sales, and also radio airplay on myTuner app.\n"
     ]
    }
   ],
   "source": [
    "## Calling in buit tool \n",
    "\n",
    "search_tool = DuckDuckGoSearchRun()\n",
    "\n",
    "result = search_tool.invoke(\"Top 10 news in India today?\")\n",
    "\n",
    "print(result)"
   ]
  },
  {
   "cell_type": "code",
   "execution_count": 55,
   "id": "9341cb94",
   "metadata": {},
   "outputs": [],
   "source": [
    "## Creating a second tool that fetches temperature \n",
    "\n",
    "@tool\n",
    "def get_weather_data(city: str) -> str:\n",
    "    '''\n",
    "    This function fetches the  current weather data for a given city\n",
    "    '''\n",
    "\n",
    "    url = f'http://api.weatherstack.com/current?access_key=9085b172d13e26b6515a4c1e67de06b9&query={city}'\n",
    "\n",
    "    request = requests.get(url)\n",
    "\n",
    "    return request.json()\n"
   ]
  },
  {
   "cell_type": "code",
   "execution_count": 56,
   "id": "58ac7e60",
   "metadata": {},
   "outputs": [],
   "source": [
    "## Initializing the LLM \n",
    "\n",
    "llm = HuggingFaceEndpoint(\n",
    "    repo_id= 'moonshotai/Kimi-K2-Instruct'\n",
    "    )\n",
    "\n",
    "model = ChatHuggingFace(llm = llm)\n",
    "\n",
    "\n",
    "# model = ChatPerplexity(model=\"sonar\") "
   ]
  },
  {
   "cell_type": "code",
   "execution_count": 57,
   "id": "083c1c29",
   "metadata": {},
   "outputs": [
    {
     "data": {
      "text/plain": [
       "AIMessage(content='Hi there! How can I help you today?', additional_kwargs={}, response_metadata={'token_usage': {'completion_tokens': 11, 'prompt_tokens': 8, 'total_tokens': 19}, 'model_name': 'moonshotai/Kimi-K2-Instruct', 'system_fingerprint': '', 'finish_reason': 'stop', 'logprobs': None}, id='run--53ef4513-66a6-45c0-a67b-0bcad46ddb1d-0', usage_metadata={'input_tokens': 8, 'output_tokens': 11, 'total_tokens': 19})"
      ]
     },
     "execution_count": 57,
     "metadata": {},
     "output_type": "execute_result"
    }
   ],
   "source": [
    "## Testing LLM if its working fine\n",
    "model.invoke(\"Hi\")"
   ]
  },
  {
   "cell_type": "code",
   "execution_count": 58,
   "id": "867d3a30",
   "metadata": {},
   "outputs": [],
   "source": [
    "## Now we have a tool (duckduckgo) and a llm (huggingface), we are now set to build out first agent"
   ]
  },
  {
   "cell_type": "code",
   "execution_count": 59,
   "id": "b5c86b2c",
   "metadata": {},
   "outputs": [],
   "source": [
    "## Importing libraries needed for AI Agents\n",
    "from langchain.agents import create_react_agent, AgentExecutor\n",
    "from langchain import hub"
   ]
  },
  {
   "cell_type": "code",
   "execution_count": 60,
   "id": "26e786ca",
   "metadata": {},
   "outputs": [
    {
     "name": "stderr",
     "output_type": "stream",
     "text": [
      "c:\\Users\\DELL\\Desktop\\LangChain\\venv\\Lib\\site-packages\\langsmith\\client.py:272: LangSmithMissingAPIKeyWarning: API key must be provided when using hosted LangSmith API\n",
      "  warnings.warn(\n"
     ]
    }
   ],
   "source": [
    "## Step 2: Pull the RecAct (Reasoning and Action) prompt from langchain\n",
    "prompt = hub.pull(\"hwchase17/react\")"
   ]
  },
  {
   "cell_type": "code",
   "execution_count": 61,
   "id": "9a480e45",
   "metadata": {},
   "outputs": [],
   "source": [
    "## Step 3: Create a ReAct agent manually with the pulled prompt\n",
    "agent = create_react_agent(\n",
    "\n",
    "    llm= model,\n",
    "    tools= [search_tool, get_weather_data],\n",
    "    prompt= prompt\n",
    ")"
   ]
  },
  {
   "cell_type": "code",
   "execution_count": 62,
   "id": "694860c3",
   "metadata": {},
   "outputs": [],
   "source": [
    "## Step 4: Wrap it with AgentExecutor\n",
    "agent_executor = AgentExecutor(\n",
    "    agent= agent,\n",
    "    tools= [search_tool, get_weather_data],\n",
    "    verbose= True\n",
    ")"
   ]
  },
  {
   "cell_type": "code",
   "execution_count": 63,
   "id": "dd176ac6",
   "metadata": {},
   "outputs": [
    {
     "name": "stdout",
     "output_type": "stream",
     "text": [
      "\n",
      "\n",
      "\u001b[1m> Entering new AgentExecutor chain...\u001b[0m\n",
      "\u001b[32;1m\u001b[1;3mI need to find the capital of Uttarakhand first, then get its current weather.\n",
      "\n",
      "Action: duckduckgo_search\n",
      "Action Input: capital of Uttarakhand\u001b[0m"
     ]
    },
    {
     "name": "stderr",
     "output_type": "stream",
     "text": [
      "c:\\Users\\DELL\\Desktop\\LangChain\\venv\\Lib\\site-packages\\langchain_community\\utilities\\duckduckgo_search.py:63: RuntimeWarning: This package (`duckduckgo_search`) has been renamed to `ddgs`! Use `pip install ddgs` instead.\n",
      "  with DDGS() as ddgs:\n"
     ]
    },
    {
     "name": "stdout",
     "output_type": "stream",
     "text": [
      "\u001b[36;1m\u001b[1;3mThe state is divided into two divisions, Garhwal and Kumaon, with a total of 13 districts. The capital of Uttarakhand is Dehradun, the largest city of the state, which is a railhead. The High Court of … This webpage provides a solution to a physics problem involving charges at the vertices of an equilateral triangle. Learn the concepts of Class 8 General Knowledge Overview of India with Videos and Stories. Capital of Indian States and Union Territories.,History of Capital of Indian States and Union … Chhattisgarh is a heavily forested state in central India known for its temples and waterfalls. Near the capital Raipur, the town of Sirpur on the Mahanadi River is home to the red-brick Lakshmana … The capital of Uttarakhand is Dehradun. Dehradun is also the largest city here. It has a total area of 53,483km/20,650mi and a population of 10,116,752. In this state, Hindi and Sanskrit (!) are the …\u001b[0m\u001b[32;1m\u001b[1;3mNow I know the capital of Uttarakhand is Dehradun. I need to get the current weather data for Dehradun.\n",
      "\n",
      "Action: get_weather_data\n",
      "Action Input: Dehradun\n",
      "\u001b[0m\u001b[33;1m\u001b[1;3m{'request': {'type': 'City', 'query': 'Dehradun, India', 'language': 'en', 'unit': 'm'}, 'location': {'name': 'Dehradun', 'country': 'India', 'region': 'Uttarakhand', 'lat': '30.317', 'lon': '78.033', 'timezone_id': 'Asia/Kolkata', 'localtime': '2025-08-07 00:52', 'localtime_epoch': 1754527920, 'utc_offset': '5.50'}, 'current': {'observation_time': '07:22 PM', 'temperature': 21, 'weather_code': 116, 'weather_icons': ['https://cdn.worldweatheronline.com/images/wsymbols01_png_64/wsymbol_0004_black_low_cloud.png'], 'weather_descriptions': ['Partly Cloudy '], 'astro': {'sunrise': '05:40 AM', 'sunset': '07:07 PM', 'moonrise': '06:01 PM', 'moonset': '03:12 AM', 'moon_phase': 'Waxing Gibbous', 'moon_illumination': 94}, 'air_quality': {'co': '740', 'no2': '32.745', 'o3': '94', 'so2': '13.875', 'pm2_5': '53.465', 'pm10': '108.78', 'us-epa-index': '3', 'gb-defra-index': '3'}, 'wind_speed': 5, 'wind_degree': 47, 'wind_dir': 'NE', 'pressure': 1005, 'precip': 0, 'humidity': 91, 'cloudcover': 47, 'feelslike': 21, 'uv_index': 0, 'visibility': 10, 'is_day': 'no'}}\u001b[0m\u001b[32;1m\u001b[1;3mI now know the final answer.\n",
      "\n",
      "Final Answer: The capital of Uttarakhand is **Dehradun**. As of **August 7, 2025, 12:52 AM local time**, the current weather in Dehradun is **21°C** with **partly cloudy** skies, 91% humidity, and a northeast wind at 5 km/h.\u001b[0m\n",
      "\n",
      "\u001b[1m> Finished chain.\u001b[0m\n",
      "{'input': 'Find the capital of Utrakhand, then find its current weather condition?', 'output': 'The capital of Uttarakhand is **Dehradun**. As of **August 7, 2025, 12:52 AM local time**, the current weather in Dehradun is **21°C** with **partly cloudy** skies, 91% humidity, and a northeast wind at 5 km/h.'}\n"
     ]
    }
   ],
   "source": [
    "## Step 5: Invoke\n",
    "result= agent_executor.invoke({\"input\" : \"Find the capital of Utrakhand, then find its current weather condition?\"})\n",
    "print(result)"
   ]
  },
  {
   "cell_type": "code",
   "execution_count": 64,
   "id": "ae96cc28",
   "metadata": {},
   "outputs": [
    {
     "name": "stdout",
     "output_type": "stream",
     "text": [
      "The capital of Uttarakhand is **Dehradun**. As of **August 7, 2025, 12:52 AM local time**, the current weather in Dehradun is **21°C** with **partly cloudy** skies, 91% humidity, and a northeast wind at 5 km/h.\n"
     ]
    }
   ],
   "source": [
    "print(result['output'])"
   ]
  },
  {
   "cell_type": "code",
   "execution_count": null,
   "id": "70918e3a",
   "metadata": {},
   "outputs": [],
   "source": []
  }
 ],
 "metadata": {
  "kernelspec": {
   "display_name": "venv",
   "language": "python",
   "name": "python3"
  },
  "language_info": {
   "codemirror_mode": {
    "name": "ipython",
    "version": 3
   },
   "file_extension": ".py",
   "mimetype": "text/x-python",
   "name": "python",
   "nbconvert_exporter": "python",
   "pygments_lexer": "ipython3",
   "version": "3.11.9"
  }
 },
 "nbformat": 4,
 "nbformat_minor": 5
}
