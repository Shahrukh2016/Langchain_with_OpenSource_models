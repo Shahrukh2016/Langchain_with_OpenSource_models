{
 "cells": [
  {
   "cell_type": "code",
   "execution_count": 1,
   "id": "e9758aaa",
   "metadata": {},
   "outputs": [
    {
     "name": "stderr",
     "output_type": "stream",
     "text": [
      "\n",
      "[notice] A new release of pip is available: 24.0 -> 25.1.1\n",
      "[notice] To update, run: python.exe -m pip install --upgrade pip\n"
     ]
    }
   ],
   "source": [
    "## Installing Libraries\n",
    "!pip install langchain langchain-core langchain-community pydantic duckduckgo-search ddgs -q"
   ]
  },
  {
   "cell_type": "markdown",
   "id": "d5ba2de7",
   "metadata": {},
   "source": [
    "##### 1. Using Tool"
   ]
  },
  {
   "cell_type": "code",
   "execution_count": 2,
   "id": "cb375396",
   "metadata": {},
   "outputs": [],
   "source": [
    "## Importing necessary libraries\n",
    "from langchain_community.tools import tool"
   ]
  },
  {
   "cell_type": "code",
   "execution_count": 3,
   "id": "e1fcd1a0",
   "metadata": {},
   "outputs": [],
   "source": [
    "## Step 1: Create a function\n",
    "\n",
    "def multiply(a,b):\n",
    "    '''Multiply two numbers'''\n",
    "    return a * b"
   ]
  },
  {
   "cell_type": "code",
   "execution_count": null,
   "id": "6a0616e1",
   "metadata": {},
   "outputs": [],
   "source": [
    "## Step 2: Add type hints\n",
    "\n",
    "def multiply(a: int,b: int) -> int:\n",
    "    '''Multiply two numbers'''\n",
    "    return a * b"
   ]
  },
  {
   "cell_type": "code",
   "execution_count": 5,
   "id": "0a207c1b",
   "metadata": {},
   "outputs": [],
   "source": [
    "## Step 3: Add tool decorator\n",
    "\n",
    "@tool\n",
    "def multiply(a: int,b: int) -> int:\n",
    "    '''Multiply two numbers'''\n",
    "    return a * b"
   ]
  },
  {
   "cell_type": "code",
   "execution_count": 7,
   "id": "9b4cf802",
   "metadata": {},
   "outputs": [
    {
     "name": "stdout",
     "output_type": "stream",
     "text": [
      "6\n"
     ]
    }
   ],
   "source": [
    "## Testing the tool\n",
    "result = multiply.invoke({'a': 3, 'b': 2})\n",
    "print(result)"
   ]
  },
  {
   "cell_type": "code",
   "execution_count": 8,
   "id": "84ecf86c",
   "metadata": {},
   "outputs": [
    {
     "name": "stdout",
     "output_type": "stream",
     "text": [
      "multiply\n",
      "Multiply two numbers\n",
      "{'a': {'title': 'A', 'type': 'integer'}, 'b': {'title': 'B', 'type': 'integer'}}\n"
     ]
    }
   ],
   "source": [
    "## Properties of langchain tools\n",
    "print(multiply.name)\n",
    "print(multiply.description)\n",
    "print(multiply.args)\n"
   ]
  },
  {
   "cell_type": "code",
   "execution_count": 10,
   "id": "4c9a62f5",
   "metadata": {},
   "outputs": [
    {
     "name": "stdout",
     "output_type": "stream",
     "text": [
      "{'description': 'Multiply two numbers', 'properties': {'a': {'title': 'A', 'type': 'integer'}, 'b': {'title': 'B', 'type': 'integer'}}, 'required': ['a', 'b'], 'title': 'multiply', 'type': 'object'}\n"
     ]
    }
   ],
   "source": [
    "## Use this code to see what LLM sees in a tool\n",
    "print(multiply.args_schema.model_json_schema())"
   ]
  },
  {
   "cell_type": "markdown",
   "id": "2c640064",
   "metadata": {},
   "source": [
    "#### 2. Using StructuredTool"
   ]
  },
  {
   "cell_type": "code",
   "execution_count": 11,
   "id": "6c26d323",
   "metadata": {},
   "outputs": [],
   "source": [
    "## Importing necessary libraries\n",
    "from langchain.tools import StructuredTool\n",
    "from pydantic import BaseModel, Field"
   ]
  },
  {
   "cell_type": "code",
   "execution_count": null,
   "id": "a30b96ab",
   "metadata": {},
   "outputs": [],
   "source": [
    "## Creating pydantic class\n",
    "class MultiplyInput(BaseModel):\n",
    "    a: int = Field(required=True, description=\"The first number to add\")\n",
    "    b: int = Field(required=True, description=\"The second number to add\")"
   ]
  },
  {
   "cell_type": "code",
   "execution_count": null,
   "id": "6692e884",
   "metadata": {},
   "outputs": [],
   "source": [
    "## Defining function\n",
    "def multiply_func(a: int, b: int) -> int:\n",
    "    return a * b"
   ]
  },
  {
   "cell_type": "code",
   "execution_count": null,
   "id": "01868c8b",
   "metadata": {},
   "outputs": [],
   "source": [
    "## Building tool\n",
    "multiply_tool = StructuredTool.from_function(\n",
    "    func= multiply_func,\n",
    "    name='multiply',\n",
    "    description='Multiply two numbers',\n",
    "    args_schema=MultiplyInput\n",
    ")"
   ]
  },
  {
   "cell_type": "code",
   "execution_count": 15,
   "id": "ae862d02",
   "metadata": {},
   "outputs": [
    {
     "name": "stdout",
     "output_type": "stream",
     "text": [
      "6\n",
      "multiply\n",
      "Multiply two numbers\n"
     ]
    }
   ],
   "source": [
    "## Using tool\n",
    "result = multiply_tool.invoke({'a' : 3, 'b' : 2})\n",
    "\n",
    "print(result)\n",
    "print(multiply_tool.name)\n",
    "print(multiply_tool.description)"
   ]
  },
  {
   "cell_type": "markdown",
   "id": "03766370",
   "metadata": {},
   "source": [
    "#### 3. Using BaseTool Class"
   ]
  },
  {
   "cell_type": "code",
   "execution_count": 16,
   "id": "8288c1bf",
   "metadata": {},
   "outputs": [],
   "source": [
    "from langchain.tools import BaseTool\n",
    "from typing import Type"
   ]
  },
  {
   "cell_type": "code",
   "execution_count": 17,
   "id": "05518fdd",
   "metadata": {},
   "outputs": [],
   "source": [
    "# arg schema using pydantic\n",
    "\n",
    "class MultiplyInput(BaseModel):\n",
    "    a: int = Field(required=True, description=\"The first number to add\")\n",
    "    b: int = Field(required=True, description=\"The second number to add\")"
   ]
  },
  {
   "cell_type": "code",
   "execution_count": null,
   "id": "411a6cab",
   "metadata": {},
   "outputs": [],
   "source": [
    "## Defining tool under BaseTool class\n",
    "class MultiplyTool(BaseTool):\n",
    "    name: str = \"multiply\"\n",
    "    description: str = \"Multiply two numbers\"\n",
    "\n",
    "    args_schema: Type[BaseModel] = MultiplyInput\n",
    "\n",
    "    def _run(self, a: int, b: int) -> int:\n",
    "        return a * b"
   ]
  },
  {
   "cell_type": "code",
   "execution_count": null,
   "id": "1673f072",
   "metadata": {},
   "outputs": [],
   "source": [
    "## Creting tool object\n",
    "multiply_tool = MultiplyTool()"
   ]
  },
  {
   "cell_type": "code",
   "execution_count": 20,
   "id": "d14dce0f",
   "metadata": {},
   "outputs": [
    {
     "name": "stdout",
     "output_type": "stream",
     "text": [
      "9\n",
      "multiply\n",
      "Multiply two numbers\n",
      "{'a': {'description': 'The first number to add', 'required': True, 'title': 'A', 'type': 'integer'}, 'b': {'description': 'The second number to add', 'required': True, 'title': 'B', 'type': 'integer'}}\n"
     ]
    }
   ],
   "source": [
    "## Calling our defined tool\n",
    "result = multiply_tool.invoke({'a':3, 'b':3})\n",
    "\n",
    "print(result)\n",
    "print(multiply_tool.name)\n",
    "print(multiply_tool.description)\n",
    "\n",
    "print(multiply_tool.args)"
   ]
  },
  {
   "cell_type": "code",
   "execution_count": null,
   "id": "8b4819e9",
   "metadata": {},
   "outputs": [],
   "source": []
  }
 ],
 "metadata": {
  "kernelspec": {
   "display_name": "venv",
   "language": "python",
   "name": "python3"
  },
  "language_info": {
   "codemirror_mode": {
    "name": "ipython",
    "version": 3
   },
   "file_extension": ".py",
   "mimetype": "text/x-python",
   "name": "python",
   "nbconvert_exporter": "python",
   "pygments_lexer": "ipython3",
   "version": "3.11.9"
  }
 },
 "nbformat": 4,
 "nbformat_minor": 5
}
