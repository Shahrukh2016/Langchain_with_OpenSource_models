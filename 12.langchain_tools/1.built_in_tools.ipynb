{
 "cells": [
  {
   "cell_type": "code",
   "execution_count": 3,
   "id": "612c87df",
   "metadata": {},
   "outputs": [
    {
     "name": "stderr",
     "output_type": "stream",
     "text": [
      "\n",
      "[notice] A new release of pip is available: 24.0 -> 25.1.1\n",
      "[notice] To update, run: python.exe -m pip install --upgrade pip\n",
      "c:\\Users\\DELL\\Desktop\\LangChain\\venv\\Lib\\site-packages\\IPython\\utils\\_process_win32.py:138: ResourceWarning: unclosed file <_io.BufferedWriter name=3>\n",
      "  res = process_handler(cmd, _system_body)\n",
      "ResourceWarning: Enable tracemalloc to get the object allocation traceback\n",
      "c:\\Users\\DELL\\Desktop\\LangChain\\venv\\Lib\\site-packages\\IPython\\utils\\_process_win32.py:138: ResourceWarning: unclosed file <_io.BufferedReader name=4>\n",
      "  res = process_handler(cmd, _system_body)\n",
      "ResourceWarning: Enable tracemalloc to get the object allocation traceback\n",
      "c:\\Users\\DELL\\Desktop\\LangChain\\venv\\Lib\\site-packages\\IPython\\utils\\_process_win32.py:138: ResourceWarning: unclosed file <_io.BufferedReader name=5>\n",
      "  res = process_handler(cmd, _system_body)\n",
      "ResourceWarning: Enable tracemalloc to get the object allocation traceback\n"
     ]
    }
   ],
   "source": [
    "!pip install langchain langchain-core langchain-community pydantic duckduckgo-search ddgs -q"
   ]
  },
  {
   "cell_type": "markdown",
   "id": "ed5550d7",
   "metadata": {},
   "source": [
    "#### 1.Built-in Tool: DuckDuckGo Search"
   ]
  },
  {
   "cell_type": "code",
   "execution_count": 7,
   "id": "2b0fdb65",
   "metadata": {},
   "outputs": [
    {
     "name": "stderr",
     "output_type": "stream",
     "text": [
      "c:\\Users\\DELL\\Desktop\\LangChain\\venv\\Lib\\site-packages\\langchain_community\\utilities\\duckduckgo_search.py:63: RuntimeWarning: This package (`duckduckgo_search`) has been renamed to `ddgs`! Use `pip install ddgs` instead.\n",
      "  with DDGS() as ddgs:\n"
     ]
    },
    {
     "name": "stdout",
     "output_type": "stream",
     "text": [
      "Meta (formerly the Facebook company) builds the future of human connection and the technology that makes it possible. We're moving beyond 2D screens and into immersive experiences like … By logging in, you can navigate to all business tools like Meta Business Suite, Business Manager, Ads Manager and more to help you connect with your customers and get better business results. Enter your email to log into a Meta account or create a new one. Meta Platforms, Inc. is an American multinational technology company headquartered in Menlo Park, California. Meta owns and operates several prominent social media platforms and … Use Meta AI assistant to get things done, create AI-generated images for free, and get answers to any of your questions. Meta AI is built on Meta's latest Llama large language model.\n"
     ]
    }
   ],
   "source": [
    "from langchain_community.tools import DuckDuckGoSearchRun\n",
    "\n",
    "search_result = DuckDuckGoSearchRun()\n",
    "\n",
    "result = search_result.invoke(\"Meta's AI Announcement\")\n",
    "\n",
    "print(result)"
   ]
  },
  {
   "cell_type": "markdown",
   "id": "e08fca33",
   "metadata": {},
   "source": [
    "#### 2.Built-in Tool: Shell Tool"
   ]
  },
  {
   "cell_type": "code",
   "execution_count": 8,
   "id": "9f608390",
   "metadata": {},
   "outputs": [
    {
     "name": "stdout",
     "output_type": "stream",
     "text": [
      "Executing command:\n",
      " whoami\n",
      "desktop-mno1jlv\\dell\n",
      "\n"
     ]
    },
    {
     "name": "stderr",
     "output_type": "stream",
     "text": [
      "c:\\Users\\DELL\\Desktop\\LangChain\\venv\\Lib\\site-packages\\langchain_community\\tools\\shell\\tool.py:33: UserWarning: The shell tool has no safeguards by default. Use at your own risk.\n",
      "  warnings.warn(\n"
     ]
    }
   ],
   "source": [
    "from langchain_community.tools import ShellTool\n",
    "\n",
    "shell_tool = ShellTool()\n",
    "\n",
    "result = shell_tool.invoke(\"whoami\")\n",
    "\n",
    "print(result)"
   ]
  },
  {
   "cell_type": "code",
   "execution_count": 9,
   "id": "4d0418b0",
   "metadata": {},
   "outputs": [],
   "source": [
    "## For more built-in tools: https://python.langchain.com/docs/integrations/tools/"
   ]
  },
  {
   "cell_type": "code",
   "execution_count": null,
   "id": "5d48a3be",
   "metadata": {},
   "outputs": [],
   "source": []
  }
 ],
 "metadata": {
  "kernelspec": {
   "display_name": "venv",
   "language": "python",
   "name": "python3"
  },
  "language_info": {
   "codemirror_mode": {
    "name": "ipython",
    "version": 3
   },
   "file_extension": ".py",
   "mimetype": "text/x-python",
   "name": "python",
   "nbconvert_exporter": "python",
   "pygments_lexer": "ipython3",
   "version": "3.11.9"
  }
 },
 "nbformat": 4,
 "nbformat_minor": 5
}
