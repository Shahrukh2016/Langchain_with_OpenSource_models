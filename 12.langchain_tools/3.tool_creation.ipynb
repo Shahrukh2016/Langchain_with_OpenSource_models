{
 "cells": [
  {
   "cell_type": "code",
   "execution_count": 1,
   "id": "648184dc",
   "metadata": {},
   "outputs": [
    {
     "name": "stderr",
     "output_type": "stream",
     "text": [
      "\n",
      "[notice] A new release of pip is available: 24.0 -> 25.1.1\n",
      "[notice] To update, run: python.exe -m pip install --upgrade pip\n"
     ]
    }
   ],
   "source": [
    "## Installing Libraries\n",
    "!pip install langchain langchain-core langchain-community pydantic -q"
   ]
  },
  {
   "cell_type": "code",
   "execution_count": 2,
   "id": "6ce438b5",
   "metadata": {},
   "outputs": [],
   "source": [
    "## Importing necessary libraries\n",
    "from langchain_community.tools import tool"
   ]
  },
  {
   "cell_type": "code",
   "execution_count": 5,
   "id": "e6229bcb",
   "metadata": {},
   "outputs": [],
   "source": [
    "## Building custom tools\n",
    "@tool\n",
    "def add(a: int, b: int) -> int:\n",
    "    '''Add the two numbers'''\n",
    "    return a + b\n",
    "\n",
    "\n",
    "@tool\n",
    "def multiply(a: int, b: int) -> int:\n",
    "    '''Multiply the two numbers'''\n",
    "    return a * b"
   ]
  },
  {
   "cell_type": "code",
   "execution_count": 6,
   "id": "77e745c7",
   "metadata": {},
   "outputs": [],
   "source": [
    "## Defining out Toolkit\n",
    "class MathToolkit:\n",
    "    def get_tools(self):\n",
    "        return [add, multiply]"
   ]
  },
  {
   "cell_type": "code",
   "execution_count": 8,
   "id": "55cb0acd",
   "metadata": {},
   "outputs": [
    {
     "name": "stdout",
     "output_type": "stream",
     "text": [
      "add -> Add the two numbers\n",
      "multiply -> Multiply the two numbers\n"
     ]
    }
   ],
   "source": [
    "## Unpacking the tools with theirdescription\n",
    "toolkit = MathToolkit()\n",
    "tools = toolkit.get_tools()\n",
    "\n",
    "for tool in tools:\n",
    "    print(tool.name, \"->\", tool.description)"
   ]
  },
  {
   "cell_type": "code",
   "execution_count": null,
   "id": "1250c597",
   "metadata": {},
   "outputs": [],
   "source": []
  }
 ],
 "metadata": {
  "kernelspec": {
   "display_name": "venv",
   "language": "python",
   "name": "python3"
  },
  "language_info": {
   "codemirror_mode": {
    "name": "ipython",
    "version": 3
   },
   "file_extension": ".py",
   "mimetype": "text/x-python",
   "name": "python",
   "nbconvert_exporter": "python",
   "pygments_lexer": "ipython3",
   "version": "3.11.9"
  }
 },
 "nbformat": 4,
 "nbformat_minor": 5
}
