{
 "cells": [
  {
   "cell_type": "code",
   "execution_count": 1,
   "id": "1b725b2d",
   "metadata": {},
   "outputs": [
    {
     "name": "stderr",
     "output_type": "stream",
     "text": [
      "\n",
      "[notice] A new release of pip is available: 24.0 -> 25.1.1\n",
      "[notice] To update, run: python.exe -m pip install --upgrade pip\n"
     ]
    }
   ],
   "source": [
    "## Installing libraries\n",
    "!pip install langchain pinecone huggingface tiktoken pypdf langchain_huggingface langchain_community -q"
   ]
  },
  {
   "cell_type": "code",
   "execution_count": 2,
   "id": "d3ada455",
   "metadata": {},
   "outputs": [],
   "source": [
    "## Improting libraries\n",
    "from langchain_huggingface import HuggingFaceEndpointEmbeddings\n",
    "from langchain.vectorstores import Pinecone\n",
    "from langchain_core.documents import Document"
   ]
  },
  {
   "cell_type": "code",
   "execution_count": 3,
   "id": "200122fb",
   "metadata": {},
   "outputs": [],
   "source": [
    "# Create LangChain documents for Machine Learning concepts\n",
    "\n",
    "doc1 = Document(\n",
    "    page_content=\"Supervised learning is a type of machine learning where the model is trained on labeled data. It is used in tasks like classification and regression.\",\n",
    "    metadata={\"type\": \"Learning Paradigm\"}\n",
    ")\n",
    "\n",
    "doc2 = Document(\n",
    "    page_content=\"Unsupervised learning involves training a model on data without labeled responses. It is commonly used for clustering and dimensionality reduction.\",\n",
    "    metadata={\"type\": \"Learning Paradigm\"}\n",
    ")\n",
    "\n",
    "doc3 = Document(\n",
    "    page_content=\"Decision Trees are interpretable machine learning models used for classification and regression. They split the data into branches based on feature values.\",\n",
    "    metadata={\"type\": \"Algorithm\"}\n",
    ")\n",
    "\n",
    "doc4 = Document(\n",
    "    page_content=\"Support Vector Machines (SVMs) are powerful classifiers that work well on both linear and non-linear problems by using kernel tricks.\",\n",
    "    metadata={\"type\": \"Algorithm\"}\n",
    ")\n",
    "\n",
    "doc5 = Document(\n",
    "    page_content=\"Overfitting is a common problem in machine learning where a model learns the training data too well, including noise, leading to poor generalization on new data.\",\n",
    "    metadata={\"type\": \"Model Issue\"}\n",
    ")\n"
   ]
  },
  {
   "cell_type": "code",
   "execution_count": 4,
   "id": "1cfc59e3",
   "metadata": {},
   "outputs": [],
   "source": [
    "## Creating list of docs\n",
    "docs = [doc1, doc2, doc3, doc4, doc5]"
   ]
  },
  {
   "cell_type": "code",
   "execution_count": 10,
   "id": "8b9be404",
   "metadata": {},
   "outputs": [
    {
     "ename": "AttributeError",
     "evalue": "module 'pinecone' has no attribute 'Index'",
     "output_type": "error",
     "traceback": [
      "\u001b[31m---------------------------------------------------------------------------\u001b[39m",
      "\u001b[31mAttributeError\u001b[39m                            Traceback (most recent call last)",
      "\u001b[36mCell\u001b[39m\u001b[36m \u001b[39m\u001b[32mIn[10]\u001b[39m\u001b[32m, line 2\u001b[39m\n\u001b[32m      1\u001b[39m \u001b[38;5;66;03m## Initializing vector store with specific properties\u001b[39;00m\n\u001b[32m----> \u001b[39m\u001b[32m2\u001b[39m vector_store = \u001b[43mPinecone\u001b[49m\u001b[43m(\u001b[49m\n\u001b[32m      3\u001b[39m \u001b[43m    \u001b[49m\u001b[43membedding\u001b[49m\u001b[43m=\u001b[49m\u001b[43mHuggingFaceEndpointEmbeddings\u001b[49m\u001b[43m(\u001b[49m\u001b[43m)\u001b[49m\u001b[43m,\u001b[49m\n\u001b[32m      4\u001b[39m \u001b[43m    \u001b[49m\u001b[43mtext_key\u001b[49m\u001b[43m=\u001b[49m\u001b[33;43m'\u001b[39;49m\u001b[33;43mpinecone_db\u001b[39;49m\u001b[33;43m'\u001b[39;49m\u001b[43m,\u001b[49m\n\u001b[32m      5\u001b[39m \u001b[43m    \u001b[49m\u001b[43mindex\u001b[49m\u001b[43m=\u001b[49m\u001b[43m \u001b[49m\u001b[43mPinecone\u001b[49m\u001b[43m.\u001b[49m\u001b[43mget_pinecone_index\u001b[49m\n\u001b[32m      6\u001b[39m \u001b[43m    \u001b[49m\u001b[43m)\u001b[49m\n",
      "\u001b[36mFile \u001b[39m\u001b[32mc:\\Users\\DELL\\Desktop\\LangChain\\venv\\Lib\\site-packages\\langchain_core\\_api\\deprecation.py:222\u001b[39m, in \u001b[36mdeprecated.<locals>.deprecate.<locals>.finalize.<locals>.warn_if_direct_instance\u001b[39m\u001b[34m(self, *args, **kwargs)\u001b[39m\n\u001b[32m    220\u001b[39m     warned = \u001b[38;5;28;01mTrue\u001b[39;00m\n\u001b[32m    221\u001b[39m     emit_warning()\n\u001b[32m--> \u001b[39m\u001b[32m222\u001b[39m \u001b[38;5;28;01mreturn\u001b[39;00m \u001b[43mwrapped\u001b[49m\u001b[43m(\u001b[49m\u001b[38;5;28;43mself\u001b[39;49m\u001b[43m,\u001b[49m\u001b[43m \u001b[49m\u001b[43m*\u001b[49m\u001b[43margs\u001b[49m\u001b[43m,\u001b[49m\u001b[43m \u001b[49m\u001b[43m*\u001b[49m\u001b[43m*\u001b[49m\u001b[43mkwargs\u001b[49m\u001b[43m)\u001b[49m\n",
      "\u001b[36mFile \u001b[39m\u001b[32mc:\\Users\\DELL\\Desktop\\LangChain\\venv\\Lib\\site-packages\\langchain_community\\vectorstores\\pinecone.py:72\u001b[39m, in \u001b[36mPinecone.__init__\u001b[39m\u001b[34m(self, index, embedding, text_key, namespace, distance_strategy)\u001b[39m\n\u001b[32m     67\u001b[39m \u001b[38;5;28;01mif\u001b[39;00m \u001b[38;5;129;01mnot\u001b[39;00m \u001b[38;5;28misinstance\u001b[39m(embedding, Embeddings):\n\u001b[32m     68\u001b[39m     warnings.warn(\n\u001b[32m     69\u001b[39m         \u001b[33m\"\u001b[39m\u001b[33mPassing in `embedding` as a Callable is deprecated. Please pass in an\u001b[39m\u001b[33m\"\u001b[39m\n\u001b[32m     70\u001b[39m         \u001b[33m\"\u001b[39m\u001b[33m Embeddings object instead.\u001b[39m\u001b[33m\"\u001b[39m\n\u001b[32m     71\u001b[39m     )\n\u001b[32m---> \u001b[39m\u001b[32m72\u001b[39m \u001b[38;5;28;01mif\u001b[39;00m \u001b[38;5;129;01mnot\u001b[39;00m \u001b[38;5;28misinstance\u001b[39m(index, \u001b[43mpinecone\u001b[49m\u001b[43m.\u001b[49m\u001b[43mIndex\u001b[49m):\n\u001b[32m     73\u001b[39m     \u001b[38;5;28;01mraise\u001b[39;00m \u001b[38;5;167;01mValueError\u001b[39;00m(\n\u001b[32m     74\u001b[39m         \u001b[33mf\u001b[39m\u001b[33m\"\u001b[39m\u001b[33mclient should be an instance of pinecone.Index, got \u001b[39m\u001b[38;5;132;01m{\u001b[39;00m\u001b[38;5;28mtype\u001b[39m(index)\u001b[38;5;132;01m}\u001b[39;00m\u001b[33m\"\u001b[39m\n\u001b[32m     75\u001b[39m     )\n\u001b[32m     76\u001b[39m \u001b[38;5;28mself\u001b[39m._index = index\n",
      "\u001b[36mFile \u001b[39m\u001b[32mc:\\Users\\DELL\\Desktop\\LangChain\\venv\\Lib\\site-packages\\pinecone\\utils\\lazy_imports.py:65\u001b[39m, in \u001b[36mLazyModule.__getattr__\u001b[39m\u001b[34m(self, name)\u001b[39m\n\u001b[32m     62\u001b[39m         \u001b[38;5;28mself\u001b[39m._loaded_attrs[name] = \u001b[38;5;28mgetattr\u001b[39m(module, item_name)\n\u001b[32m     63\u001b[39m     \u001b[38;5;28;01mreturn\u001b[39;00m \u001b[38;5;28mself\u001b[39m._loaded_attrs[name]\n\u001b[32m---> \u001b[39m\u001b[32m65\u001b[39m \u001b[38;5;28;01mraise\u001b[39;00m \u001b[38;5;167;01mAttributeError\u001b[39;00m(\u001b[33mf\u001b[39m\u001b[33m\"\u001b[39m\u001b[33mmodule \u001b[39m\u001b[33m'\u001b[39m\u001b[38;5;132;01m{\u001b[39;00m\u001b[38;5;28mself\u001b[39m._original_module.\u001b[34m__name__\u001b[39m\u001b[38;5;132;01m}\u001b[39;00m\u001b[33m'\u001b[39m\u001b[33m has no attribute \u001b[39m\u001b[33m'\u001b[39m\u001b[38;5;132;01m{\u001b[39;00mname\u001b[38;5;132;01m}\u001b[39;00m\u001b[33m'\u001b[39m\u001b[33m\"\u001b[39m)\n",
      "\u001b[31mAttributeError\u001b[39m: module 'pinecone' has no attribute 'Index'"
     ]
    }
   ],
   "source": [
    "## Initializing vector store with specific properties\n",
    "vector_store = Pinecone(\n",
    "    embedding=HuggingFaceEndpointEmbeddings(),\n",
    "    text_key='pinecone_db',\n",
    "    index= Pinecone.get_pinecone_index\n",
    "    )"
   ]
  },
  {
   "cell_type": "code",
   "execution_count": 8,
   "id": "39cc5408",
   "metadata": {},
   "outputs": [
    {
     "data": {
      "text/plain": [
       "['d0780ad9-3cee-4c1d-b578-b15be3d8956a',\n",
       " 'cc8286d5-efcc-466a-a944-3521498f5f25',\n",
       " 'd1a5e62a-3e9c-4184-88fd-bb2734949ca1',\n",
       " '662655b1-5d6d-4db9-be9b-f6ee5643dd2a',\n",
       " 'b06237e2-9a45-42fc-99b6-e07f15e53f0e']"
      ]
     },
     "execution_count": 8,
     "metadata": {},
     "output_type": "execute_result"
    }
   ],
   "source": [
    "## Adding docs in vector store (all at once)\n",
    "vector_store.add_documents(documents=docs)"
   ]
  },
  {
   "cell_type": "code",
   "execution_count": 9,
   "id": "5959852a",
   "metadata": {},
   "outputs": [
    {
     "data": {
      "text/plain": [
       "{'ids': ['d0780ad9-3cee-4c1d-b578-b15be3d8956a',\n",
       "  'cc8286d5-efcc-466a-a944-3521498f5f25',\n",
       "  'd1a5e62a-3e9c-4184-88fd-bb2734949ca1',\n",
       "  '662655b1-5d6d-4db9-be9b-f6ee5643dd2a',\n",
       "  'b06237e2-9a45-42fc-99b6-e07f15e53f0e'],\n",
       " 'embeddings': array([[-0.00349487, -0.06937262, -0.03674874, ...,  0.01894872,\n",
       "          0.03802383,  0.03368926],\n",
       "        [-0.03784934,  0.00225465, -0.00951576, ..., -0.00423702,\n",
       "         -0.00273802,  0.01476773],\n",
       "        [-0.02975775, -0.07652662, -0.03067826, ...,  0.00419427,\n",
       "          0.05259743, -0.00317904],\n",
       "        [-0.01568775, -0.01699524, -0.06006106, ..., -0.00444106,\n",
       "          0.00874989, -0.00119687],\n",
       "        [-0.05773736, -0.01843516,  0.00245588, ...,  0.01997842,\n",
       "          0.06201811, -0.01657497]], shape=(5, 768)),\n",
       " 'documents': ['Supervised learning is a type of machine learning where the model is trained on labeled data. It is used in tasks like classification and regression.',\n",
       "  'Unsupervised learning involves training a model on data without labeled responses. It is commonly used for clustering and dimensionality reduction.',\n",
       "  'Decision Trees are interpretable machine learning models used for classification and regression. They split the data into branches based on feature values.',\n",
       "  'Support Vector Machines (SVMs) are powerful classifiers that work well on both linear and non-linear problems by using kernel tricks.',\n",
       "  'Overfitting is a common problem in machine learning where a model learns the training data too well, including noise, leading to poor generalization on new data.'],\n",
       " 'uris': None,\n",
       " 'included': ['embeddings', 'documents', 'metadatas'],\n",
       " 'data': None,\n",
       " 'metadatas': [{'type': 'Learning Paradigm'},\n",
       "  {'type': 'Learning Paradigm'},\n",
       "  {'type': 'Algorithm'},\n",
       "  {'type': 'Algorithm'},\n",
       "  {'type': 'Model Issue'}]}"
      ]
     },
     "execution_count": 9,
     "metadata": {},
     "output_type": "execute_result"
    }
   ],
   "source": [
    "## View documents\n",
    "vector_store.get(include=['embeddings', 'documents', 'metadatas'])"
   ]
  },
  {
   "cell_type": "code",
   "execution_count": 10,
   "id": "04765dd8",
   "metadata": {},
   "outputs": [
    {
     "data": {
      "text/plain": [
       "[Document(metadata={'type': 'Algorithm'}, page_content='Support Vector Machines (SVMs) are powerful classifiers that work well on both linear and non-linear problems by using kernel tricks.'),\n",
       " Document(metadata={'type': 'Learning Paradigm'}, page_content='Supervised learning is a type of machine learning where the model is trained on labeled data. It is used in tasks like classification and regression.'),\n",
       " Document(metadata={'type': 'Model Issue'}, page_content='Overfitting is a common problem in machine learning where a model learns the training data too well, including noise, leading to poor generalization on new data.'),\n",
       " Document(metadata={'type': 'Learning Paradigm'}, page_content='Unsupervised learning involves training a model on data without labeled responses. It is commonly used for clustering and dimensionality reduction.')]"
      ]
     },
     "execution_count": 10,
     "metadata": {},
     "output_type": "execute_result"
    }
   ],
   "source": [
    "## Search Vectors\n",
    "vector_store.similarity_search(\n",
    "    query= 'Machine Learning algorithmns ?',\n",
    "    k=4\n",
    ")"
   ]
  },
  {
   "cell_type": "code",
   "execution_count": 11,
   "id": "f8cee0e1",
   "metadata": {},
   "outputs": [
    {
     "data": {
      "text/plain": [
       "[(Document(metadata={'type': 'Algorithm'}, page_content='Support Vector Machines (SVMs) are powerful classifiers that work well on both linear and non-linear problems by using kernel tricks.'),\n",
       "  1.0240678787231445),\n",
       " (Document(metadata={'type': 'Learning Paradigm'}, page_content='Supervised learning is a type of machine learning where the model is trained on labeled data. It is used in tasks like classification and regression.'),\n",
       "  1.1079070568084717),\n",
       " (Document(metadata={'type': 'Model Issue'}, page_content='Overfitting is a common problem in machine learning where a model learns the training data too well, including noise, leading to poor generalization on new data.'),\n",
       "  1.2296489477157593),\n",
       " (Document(metadata={'type': 'Learning Paradigm'}, page_content='Unsupervised learning involves training a model on data without labeled responses. It is commonly used for clustering and dimensionality reduction.'),\n",
       "  1.255737543106079)]"
      ]
     },
     "execution_count": 11,
     "metadata": {},
     "output_type": "execute_result"
    }
   ],
   "source": [
    "## Search Vector with Similarity Score\n",
    "vector_store.similarity_search_with_score(\n",
    "    query= 'Machine Learning algorithmns ?',\n",
    "    k=4\n",
    ")"
   ]
  },
  {
   "cell_type": "code",
   "execution_count": 12,
   "id": "adc8dadd",
   "metadata": {},
   "outputs": [
    {
     "data": {
      "text/plain": [
       "[(Document(metadata={'type': 'Algorithm'}, page_content='Support Vector Machines (SVMs) are powerful classifiers that work well on both linear and non-linear problems by using kernel tricks.'),\n",
       "  1.8860936164855957),\n",
       " (Document(metadata={'type': 'Algorithm'}, page_content='Decision Trees are interpretable machine learning models used for classification and regression. They split the data into branches based on feature values.'),\n",
       "  2.0888729095458984)]"
      ]
     },
     "execution_count": 12,
     "metadata": {},
     "output_type": "execute_result"
    }
   ],
   "source": [
    "## Metadata Filtering\n",
    "vector_store.similarity_search_with_score(\n",
    "    query= '',\n",
    "    filter= {'type' : 'Algorithm'}\n",
    ")"
   ]
  },
  {
   "cell_type": "code",
   "execution_count": 16,
   "id": "d36a0891",
   "metadata": {},
   "outputs": [
    {
     "data": {
      "text/plain": [
       "{'ids': ['d0780ad9-3cee-4c1d-b578-b15be3d8956a',\n",
       "  'cc8286d5-efcc-466a-a944-3521498f5f25',\n",
       "  'd1a5e62a-3e9c-4184-88fd-bb2734949ca1',\n",
       "  '662655b1-5d6d-4db9-be9b-f6ee5643dd2a',\n",
       "  'b06237e2-9a45-42fc-99b6-e07f15e53f0e'],\n",
       " 'embeddings': array([[-0.00349487, -0.06937262, -0.03674874, ...,  0.01894872,\n",
       "          0.03802383,  0.03368926],\n",
       "        [-0.03784934,  0.00225465, -0.00951576, ..., -0.00423702,\n",
       "         -0.00273802,  0.01476773],\n",
       "        [-0.02975775, -0.07652662, -0.03067826, ...,  0.00419427,\n",
       "          0.05259743, -0.00317904],\n",
       "        [-0.01568775, -0.01699524, -0.06006106, ..., -0.00444106,\n",
       "          0.00874989, -0.00119687],\n",
       "        [-0.06818321, -0.06726655, -0.00853008, ..., -0.0204084 ,\n",
       "          0.0782131 , -0.00220448]], shape=(5, 768)),\n",
       " 'documents': ['Supervised learning is a type of machine learning where the model is trained on labeled data. It is used in tasks like classification and regression.',\n",
       "  'Unsupervised learning involves training a model on data without labeled responses. It is commonly used for clustering and dimensionality reduction.',\n",
       "  'Decision Trees are interpretable machine learning models used for classification and regression. They split the data into branches based on feature values.',\n",
       "  'Support Vector Machines (SVMs) are powerful classifiers that work well on both linear and non-linear problems by using kernel tricks.',\n",
       "  'Underfitting occurs when a machine learning model is too simple to capture the underlying patterns in the data. It results in poor performance on both training and test datasets.'],\n",
       " 'uris': None,\n",
       " 'included': ['embeddings', 'documents', 'metadatas'],\n",
       " 'data': None,\n",
       " 'metadatas': [{'type': 'Learning Paradigm'},\n",
       "  {'type': 'Learning Paradigm'},\n",
       "  {'type': 'Algorithm'},\n",
       "  {'type': 'Algorithm'},\n",
       "  {'type': 'Model Issue'}]}"
      ]
     },
     "execution_count": 16,
     "metadata": {},
     "output_type": "execute_result"
    }
   ],
   "source": [
    "## Creating New Document\n",
    "updated_doc5 = Document(\n",
    "    page_content=\"Underfitting occurs when a machine learning model is too simple to capture the underlying patterns in the data. It results in poor performance on both training and test datasets.\",\n",
    "    metadata={\"type\": \"Model Issue\"}\n",
    ")\n",
    "\n",
    "## Update Document\n",
    "vector_store.update_document(document_id= 'b06237e2-9a45-42fc-99b6-e07f15e53f0e', document=updated_doc5)\n",
    "\n",
    "## Checking updated document\n",
    "vector_store.get(include=['embeddings', 'documents', 'metadatas'])"
   ]
  },
  {
   "cell_type": "code",
   "execution_count": 17,
   "id": "b24b217f",
   "metadata": {},
   "outputs": [
    {
     "data": {
      "text/plain": [
       "{'ids': ['d0780ad9-3cee-4c1d-b578-b15be3d8956a',\n",
       "  'cc8286d5-efcc-466a-a944-3521498f5f25',\n",
       "  'd1a5e62a-3e9c-4184-88fd-bb2734949ca1',\n",
       "  '662655b1-5d6d-4db9-be9b-f6ee5643dd2a'],\n",
       " 'embeddings': array([[-0.00349487, -0.06937262, -0.03674874, ...,  0.01894872,\n",
       "          0.03802383,  0.03368926],\n",
       "        [-0.03784934,  0.00225465, -0.00951576, ..., -0.00423702,\n",
       "         -0.00273802,  0.01476773],\n",
       "        [-0.02975775, -0.07652662, -0.03067826, ...,  0.00419427,\n",
       "          0.05259743, -0.00317904],\n",
       "        [-0.01568775, -0.01699524, -0.06006106, ..., -0.00444106,\n",
       "          0.00874989, -0.00119687]], shape=(4, 768)),\n",
       " 'documents': ['Supervised learning is a type of machine learning where the model is trained on labeled data. It is used in tasks like classification and regression.',\n",
       "  'Unsupervised learning involves training a model on data without labeled responses. It is commonly used for clustering and dimensionality reduction.',\n",
       "  'Decision Trees are interpretable machine learning models used for classification and regression. They split the data into branches based on feature values.',\n",
       "  'Support Vector Machines (SVMs) are powerful classifiers that work well on both linear and non-linear problems by using kernel tricks.'],\n",
       " 'uris': None,\n",
       " 'included': ['embeddings', 'documents', 'metadatas'],\n",
       " 'data': None,\n",
       " 'metadatas': [{'type': 'Learning Paradigm'},\n",
       "  {'type': 'Learning Paradigm'},\n",
       "  {'type': 'Algorithm'},\n",
       "  {'type': 'Algorithm'}]}"
      ]
     },
     "execution_count": 17,
     "metadata": {},
     "output_type": "execute_result"
    }
   ],
   "source": [
    "## Delete Document\n",
    "vector_store.delete(ids= 'b06237e2-9a45-42fc-99b6-e07f15e53f0e')\n",
    "\n",
    "## Checking updated document\n",
    "vector_store.get(include=['embeddings', 'documents', 'metadatas'])"
   ]
  },
  {
   "cell_type": "code",
   "execution_count": null,
   "id": "0acb3e13",
   "metadata": {},
   "outputs": [],
   "source": []
  }
 ],
 "metadata": {
  "kernelspec": {
   "display_name": "venv",
   "language": "python",
   "name": "python3"
  },
  "language_info": {
   "codemirror_mode": {
    "name": "ipython",
    "version": 3
   },
   "file_extension": ".py",
   "mimetype": "text/x-python",
   "name": "python",
   "nbconvert_exporter": "python",
   "pygments_lexer": "ipython3",
   "version": "3.11.9"
  }
 },
 "nbformat": 4,
 "nbformat_minor": 5
}
